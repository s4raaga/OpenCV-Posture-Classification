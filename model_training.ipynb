{
 "cells": [
  {
   "cell_type": "code",
   "execution_count": 6,
   "id": "37d64f71",
   "metadata": {},
   "outputs": [
    {
     "ename": "EmptyDataError",
     "evalue": "No columns to parse from file",
     "output_type": "error",
     "traceback": [
      "\u001b[31m---------------------------------------------------------------------------\u001b[39m",
      "\u001b[31mEmptyDataError\u001b[39m                            Traceback (most recent call last)",
      "\u001b[36mCell\u001b[39m\u001b[36m \u001b[39m\u001b[32mIn[6]\u001b[39m\u001b[32m, line 11\u001b[39m\n\u001b[32m      9\u001b[39m \u001b[38;5;28;01mfor\u001b[39;00m file \u001b[38;5;129;01min\u001b[39;00m csv_files:\n\u001b[32m     10\u001b[39m     file_path = os.path.join(\u001b[33m'\u001b[39m\u001b[33m./data\u001b[39m\u001b[33m'\u001b[39m, file)\n\u001b[32m---> \u001b[39m\u001b[32m11\u001b[39m     df = \u001b[43mpd\u001b[49m\u001b[43m.\u001b[49m\u001b[43mread_csv\u001b[49m\u001b[43m(\u001b[49m\u001b[43mfile_path\u001b[49m\u001b[43m)\u001b[49m\n\u001b[32m     12\u001b[39m     data_frame.append(df)\n\u001b[32m     14\u001b[39m data_frame[data_frame[\u001b[33m'\u001b[39m\u001b[33mclass\u001b[39m\u001b[33m'\u001b[39m] == \u001b[33m'\u001b[39m\u001b[33mupright\u001b[39m\u001b[33m'\u001b[39m] \u001b[38;5;66;03m#Grabs only a specific class.\u001b[39;00m\n",
      "\u001b[36mFile \u001b[39m\u001b[32m~/miniconda3/envs/vision/lib/python3.12/site-packages/pandas/io/parsers/readers.py:1026\u001b[39m, in \u001b[36mread_csv\u001b[39m\u001b[34m(filepath_or_buffer, sep, delimiter, header, names, index_col, usecols, dtype, engine, converters, true_values, false_values, skipinitialspace, skiprows, skipfooter, nrows, na_values, keep_default_na, na_filter, verbose, skip_blank_lines, parse_dates, infer_datetime_format, keep_date_col, date_parser, date_format, dayfirst, cache_dates, iterator, chunksize, compression, thousands, decimal, lineterminator, quotechar, quoting, doublequote, escapechar, comment, encoding, encoding_errors, dialect, on_bad_lines, delim_whitespace, low_memory, memory_map, float_precision, storage_options, dtype_backend)\u001b[39m\n\u001b[32m   1013\u001b[39m kwds_defaults = _refine_defaults_read(\n\u001b[32m   1014\u001b[39m     dialect,\n\u001b[32m   1015\u001b[39m     delimiter,\n\u001b[32m   (...)\u001b[39m\u001b[32m   1022\u001b[39m     dtype_backend=dtype_backend,\n\u001b[32m   1023\u001b[39m )\n\u001b[32m   1024\u001b[39m kwds.update(kwds_defaults)\n\u001b[32m-> \u001b[39m\u001b[32m1026\u001b[39m \u001b[38;5;28;01mreturn\u001b[39;00m \u001b[43m_read\u001b[49m\u001b[43m(\u001b[49m\u001b[43mfilepath_or_buffer\u001b[49m\u001b[43m,\u001b[49m\u001b[43m \u001b[49m\u001b[43mkwds\u001b[49m\u001b[43m)\u001b[49m\n",
      "\u001b[36mFile \u001b[39m\u001b[32m~/miniconda3/envs/vision/lib/python3.12/site-packages/pandas/io/parsers/readers.py:620\u001b[39m, in \u001b[36m_read\u001b[39m\u001b[34m(filepath_or_buffer, kwds)\u001b[39m\n\u001b[32m    617\u001b[39m _validate_names(kwds.get(\u001b[33m\"\u001b[39m\u001b[33mnames\u001b[39m\u001b[33m\"\u001b[39m, \u001b[38;5;28;01mNone\u001b[39;00m))\n\u001b[32m    619\u001b[39m \u001b[38;5;66;03m# Create the parser.\u001b[39;00m\n\u001b[32m--> \u001b[39m\u001b[32m620\u001b[39m parser = \u001b[43mTextFileReader\u001b[49m\u001b[43m(\u001b[49m\u001b[43mfilepath_or_buffer\u001b[49m\u001b[43m,\u001b[49m\u001b[43m \u001b[49m\u001b[43m*\u001b[49m\u001b[43m*\u001b[49m\u001b[43mkwds\u001b[49m\u001b[43m)\u001b[49m\n\u001b[32m    622\u001b[39m \u001b[38;5;28;01mif\u001b[39;00m chunksize \u001b[38;5;129;01mor\u001b[39;00m iterator:\n\u001b[32m    623\u001b[39m     \u001b[38;5;28;01mreturn\u001b[39;00m parser\n",
      "\u001b[36mFile \u001b[39m\u001b[32m~/miniconda3/envs/vision/lib/python3.12/site-packages/pandas/io/parsers/readers.py:1620\u001b[39m, in \u001b[36mTextFileReader.__init__\u001b[39m\u001b[34m(self, f, engine, **kwds)\u001b[39m\n\u001b[32m   1617\u001b[39m     \u001b[38;5;28mself\u001b[39m.options[\u001b[33m\"\u001b[39m\u001b[33mhas_index_names\u001b[39m\u001b[33m\"\u001b[39m] = kwds[\u001b[33m\"\u001b[39m\u001b[33mhas_index_names\u001b[39m\u001b[33m\"\u001b[39m]\n\u001b[32m   1619\u001b[39m \u001b[38;5;28mself\u001b[39m.handles: IOHandles | \u001b[38;5;28;01mNone\u001b[39;00m = \u001b[38;5;28;01mNone\u001b[39;00m\n\u001b[32m-> \u001b[39m\u001b[32m1620\u001b[39m \u001b[38;5;28mself\u001b[39m._engine = \u001b[38;5;28;43mself\u001b[39;49m\u001b[43m.\u001b[49m\u001b[43m_make_engine\u001b[49m\u001b[43m(\u001b[49m\u001b[43mf\u001b[49m\u001b[43m,\u001b[49m\u001b[43m \u001b[49m\u001b[38;5;28;43mself\u001b[39;49m\u001b[43m.\u001b[49m\u001b[43mengine\u001b[49m\u001b[43m)\u001b[49m\n",
      "\u001b[36mFile \u001b[39m\u001b[32m~/miniconda3/envs/vision/lib/python3.12/site-packages/pandas/io/parsers/readers.py:1898\u001b[39m, in \u001b[36mTextFileReader._make_engine\u001b[39m\u001b[34m(self, f, engine)\u001b[39m\n\u001b[32m   1895\u001b[39m     \u001b[38;5;28;01mraise\u001b[39;00m \u001b[38;5;167;01mValueError\u001b[39;00m(msg)\n\u001b[32m   1897\u001b[39m \u001b[38;5;28;01mtry\u001b[39;00m:\n\u001b[32m-> \u001b[39m\u001b[32m1898\u001b[39m     \u001b[38;5;28;01mreturn\u001b[39;00m \u001b[43mmapping\u001b[49m\u001b[43m[\u001b[49m\u001b[43mengine\u001b[49m\u001b[43m]\u001b[49m\u001b[43m(\u001b[49m\u001b[43mf\u001b[49m\u001b[43m,\u001b[49m\u001b[43m \u001b[49m\u001b[43m*\u001b[49m\u001b[43m*\u001b[49m\u001b[38;5;28;43mself\u001b[39;49m\u001b[43m.\u001b[49m\u001b[43moptions\u001b[49m\u001b[43m)\u001b[49m\n\u001b[32m   1899\u001b[39m \u001b[38;5;28;01mexcept\u001b[39;00m \u001b[38;5;167;01mException\u001b[39;00m:\n\u001b[32m   1900\u001b[39m     \u001b[38;5;28;01mif\u001b[39;00m \u001b[38;5;28mself\u001b[39m.handles \u001b[38;5;129;01mis\u001b[39;00m \u001b[38;5;129;01mnot\u001b[39;00m \u001b[38;5;28;01mNone\u001b[39;00m:\n",
      "\u001b[36mFile \u001b[39m\u001b[32m~/miniconda3/envs/vision/lib/python3.12/site-packages/pandas/io/parsers/c_parser_wrapper.py:93\u001b[39m, in \u001b[36mCParserWrapper.__init__\u001b[39m\u001b[34m(self, src, **kwds)\u001b[39m\n\u001b[32m     90\u001b[39m \u001b[38;5;28;01mif\u001b[39;00m kwds[\u001b[33m\"\u001b[39m\u001b[33mdtype_backend\u001b[39m\u001b[33m\"\u001b[39m] == \u001b[33m\"\u001b[39m\u001b[33mpyarrow\u001b[39m\u001b[33m\"\u001b[39m:\n\u001b[32m     91\u001b[39m     \u001b[38;5;66;03m# Fail here loudly instead of in cython after reading\u001b[39;00m\n\u001b[32m     92\u001b[39m     import_optional_dependency(\u001b[33m\"\u001b[39m\u001b[33mpyarrow\u001b[39m\u001b[33m\"\u001b[39m)\n\u001b[32m---> \u001b[39m\u001b[32m93\u001b[39m \u001b[38;5;28mself\u001b[39m._reader = \u001b[43mparsers\u001b[49m\u001b[43m.\u001b[49m\u001b[43mTextReader\u001b[49m\u001b[43m(\u001b[49m\u001b[43msrc\u001b[49m\u001b[43m,\u001b[49m\u001b[43m \u001b[49m\u001b[43m*\u001b[49m\u001b[43m*\u001b[49m\u001b[43mkwds\u001b[49m\u001b[43m)\u001b[49m\n\u001b[32m     95\u001b[39m \u001b[38;5;28mself\u001b[39m.unnamed_cols = \u001b[38;5;28mself\u001b[39m._reader.unnamed_cols\n\u001b[32m     97\u001b[39m \u001b[38;5;66;03m# error: Cannot determine type of 'names'\u001b[39;00m\n",
      "\u001b[36mFile \u001b[39m\u001b[32mpandas/_libs/parsers.pyx:581\u001b[39m, in \u001b[36mpandas._libs.parsers.TextReader.__cinit__\u001b[39m\u001b[34m()\u001b[39m\n",
      "\u001b[31mEmptyDataError\u001b[39m: No columns to parse from file"
     ]
    }
   ],
   "source": [
    "import os\n",
    "import numpy as np\n",
    "import pandas as pd\n",
    "from sklearn.model_selection import train_test_split\n",
    "\n",
    "data_frame = []\n",
    "\n",
    "csv_files = [f for f in os.listdir('./data')]\n",
    "for file in csv_files:\n",
    "    file_path = os.path.join('./data', file)\n",
    "    df = pd.read_csv(file_path)\n",
    "    data_frame.append(df)\n",
    "\n",
    "data_frame[data_frame['class'] == 'upright'] #Grabs only a specific class.\n",
    "\n",
    "    "
   ]
  },
  {
   "cell_type": "code",
   "execution_count": 29,
   "id": "1a0badc9",
   "metadata": {},
   "outputs": [],
   "source": [
    "X = df.drop('class', axis=1) #Features (no class col)\n",
    "y = df['class'] #Target value (class col)\n"
   ]
  },
  {
   "cell_type": "code",
   "execution_count": 30,
   "id": "86da3178",
   "metadata": {},
   "outputs": [],
   "source": [
    "#Create train/ test split.\n",
    "X_train, X_test, y_train, y_test = train_test_split(X, y, test_size=0.3, random_state=1234)"
   ]
  },
  {
   "cell_type": "markdown",
   "id": "25718207",
   "metadata": {},
   "source": [
    "# Train Classification Model"
   ]
  },
  {
   "cell_type": "code",
   "execution_count": 31,
   "id": "deeaa89e",
   "metadata": {},
   "outputs": [],
   "source": [
    "from sklearn.pipeline import make_pipeline\n",
    "from sklearn.preprocessing import StandardScaler\n",
    "from sklearn.linear_model import LogisticRegression, RidgeClassifier\n",
    "from sklearn.ensemble import RandomForestClassifier, GradientBoostingClassifier"
   ]
  },
  {
   "cell_type": "code",
   "execution_count": 32,
   "id": "1efa00ac",
   "metadata": {},
   "outputs": [],
   "source": [
    "pipelines = {\n",
    "    'lr':make_pipeline(StandardScaler(), LogisticRegression()),\n",
    "    'rc':make_pipeline(StandardScaler(), RidgeClassifier()),\n",
    "    'rf':make_pipeline(StandardScaler(), RandomForestClassifier()),\n",
    "    'gb':make_pipeline(StandardScaler(), GradientBoostingClassifier()),\n",
    "}\n",
    "\n",
    "#Train every model (4) on the data.\n",
    "fit_models = {}\n",
    "for algo, pipeline in pipelines.items():\n",
    "    model = pipeline.fit(X_train, y_train)\n",
    "    fit_models[algo] = model"
   ]
  },
  {
   "cell_type": "code",
   "execution_count": 34,
   "id": "0b22b5e4",
   "metadata": {},
   "outputs": [
    {
     "data": {
      "text/plain": [
       "array(['upright', 'slouch', 'upright', 'slouch', 'slouch', 'slouch',\n",
       "       'upright', 'slouch', 'upright', 'upright', 'slouch', 'slouch',\n",
       "       'slouch', 'upright', 'slouch', 'upright', 'slouch', 'upright',\n",
       "       'slouch', 'slouch', 'slouch', 'slouch', 'slouch', 'slouch',\n",
       "       'upright', 'slouch', 'slouch', 'upright', 'upright', 'upright',\n",
       "       'slouch', 'slouch', 'slouch', 'slouch', 'slouch', 'slouch',\n",
       "       'upright', 'slouch', 'upright', 'upright', 'upright', 'slouch',\n",
       "       'slouch', 'upright', 'slouch', 'upright', 'upright', 'upright',\n",
       "       'upright', 'slouch', 'slouch', 'slouch', 'upright', 'slouch',\n",
       "       'slouch', 'slouch', 'upright', 'slouch', 'slouch', 'slouch',\n",
       "       'slouch', 'slouch', 'upright', 'slouch', 'slouch', 'slouch',\n",
       "       'upright', 'upright', 'slouch', 'slouch', 'upright', 'slouch',\n",
       "       'upright', 'slouch', 'slouch', 'slouch', 'slouch', 'slouch',\n",
       "       'upright', 'upright', 'upright', 'slouch', 'upright', 'upright',\n",
       "       'slouch', 'slouch', 'upright', 'slouch', 'upright', 'slouch',\n",
       "       'slouch', 'slouch', 'upright', 'upright', 'slouch', 'slouch',\n",
       "       'slouch', 'slouch', 'upright', 'slouch', 'upright', 'slouch',\n",
       "       'slouch', 'slouch', 'slouch', 'upright', 'upright', 'slouch',\n",
       "       'slouch', 'slouch', 'upright', 'slouch', 'upright', 'slouch',\n",
       "       'upright', 'slouch', 'slouch', 'upright', 'slouch', 'slouch',\n",
       "       'slouch', 'slouch', 'slouch', 'slouch', 'upright', 'slouch',\n",
       "       'slouch', 'slouch', 'slouch', 'slouch', 'slouch', 'slouch',\n",
       "       'slouch', 'upright', 'upright', 'upright', 'slouch', 'upright',\n",
       "       'slouch', 'slouch', 'slouch', 'upright', 'upright', 'upright',\n",
       "       'slouch', 'slouch', 'upright', 'slouch', 'upright', 'upright',\n",
       "       'slouch', 'slouch', 'slouch', 'slouch', 'upright', 'slouch',\n",
       "       'slouch', 'upright', 'upright', 'slouch', 'slouch', 'slouch',\n",
       "       'slouch', 'upright', 'slouch', 'upright', 'slouch', 'slouch',\n",
       "       'slouch', 'slouch', 'slouch', 'slouch', 'slouch', 'slouch',\n",
       "       'upright', 'slouch', 'upright', 'slouch', 'slouch', 'slouch',\n",
       "       'upright', 'slouch', 'slouch', 'slouch', 'upright', 'upright',\n",
       "       'upright', 'slouch', 'slouch', 'upright', 'slouch', 'slouch',\n",
       "       'slouch', 'upright', 'slouch', 'upright', 'slouch', 'slouch',\n",
       "       'upright', 'slouch', 'slouch', 'slouch', 'upright', 'slouch',\n",
       "       'slouch', 'slouch', 'upright', 'slouch', 'upright', 'upright',\n",
       "       'upright', 'slouch', 'upright', 'slouch', 'slouch', 'upright',\n",
       "       'slouch', 'slouch', 'slouch', 'slouch', 'slouch', 'upright',\n",
       "       'slouch', 'slouch', 'slouch', 'upright', 'slouch', 'slouch',\n",
       "       'upright', 'slouch', 'upright', 'slouch', 'slouch', 'upright',\n",
       "       'upright', 'upright', 'upright', 'slouch', 'slouch', 'upright',\n",
       "       'slouch', 'upright', 'slouch', 'slouch', 'slouch', 'slouch',\n",
       "       'slouch', 'slouch', 'slouch', 'slouch', 'upright', 'upright',\n",
       "       'upright', 'slouch', 'upright', 'upright', 'upright', 'slouch',\n",
       "       'upright', 'upright', 'slouch', 'slouch', 'slouch', 'slouch',\n",
       "       'upright', 'upright', 'upright', 'upright', 'slouch', 'slouch',\n",
       "       'slouch', 'upright', 'upright', 'slouch', 'slouch', 'slouch',\n",
       "       'upright', 'upright', 'slouch', 'upright', 'slouch', 'upright',\n",
       "       'slouch', 'upright', 'upright', 'slouch', 'slouch', 'upright',\n",
       "       'upright', 'upright', 'slouch', 'upright', 'slouch', 'slouch',\n",
       "       'upright', 'slouch', 'slouch', 'slouch', 'upright', 'slouch',\n",
       "       'slouch', 'slouch', 'upright', 'slouch', 'upright', 'slouch',\n",
       "       'slouch', 'upright', 'upright', 'upright', 'upright', 'slouch',\n",
       "       'upright', 'upright', 'slouch', 'upright', 'slouch', 'slouch',\n",
       "       'upright', 'upright', 'slouch', 'upright', 'slouch', 'slouch',\n",
       "       'slouch', 'slouch', 'slouch', 'slouch', 'upright', 'slouch',\n",
       "       'slouch', 'slouch', 'upright', 'slouch', 'upright', 'slouch',\n",
       "       'upright', 'slouch', 'slouch', 'upright', 'upright', 'upright',\n",
       "       'slouch', 'upright', 'slouch', 'slouch', 'slouch', 'slouch',\n",
       "       'upright', 'upright', 'slouch', 'upright', 'slouch', 'slouch',\n",
       "       'slouch', 'slouch', 'upright', 'slouch', 'slouch', 'slouch',\n",
       "       'slouch', 'slouch', 'upright', 'upright', 'upright', 'upright',\n",
       "       'slouch', 'slouch', 'upright', 'upright', 'upright', 'upright',\n",
       "       'slouch', 'slouch', 'slouch', 'upright', 'slouch', 'upright',\n",
       "       'slouch', 'slouch', 'upright', 'upright', 'slouch', 'upright',\n",
       "       'slouch', 'upright', 'slouch', 'upright', 'slouch', 'upright',\n",
       "       'upright', 'slouch', 'slouch', 'upright', 'slouch', 'slouch',\n",
       "       'slouch', 'upright', 'slouch', 'upright', 'upright', 'slouch',\n",
       "       'slouch', 'slouch', 'upright', 'slouch', 'upright', 'slouch',\n",
       "       'slouch', 'slouch', 'slouch', 'upright', 'upright', 'upright',\n",
       "       'slouch', 'slouch', 'slouch', 'slouch', 'upright', 'upright',\n",
       "       'slouch', 'slouch', 'upright', 'upright', 'slouch', 'upright',\n",
       "       'slouch', 'slouch', 'slouch', 'slouch', 'upright', 'upright',\n",
       "       'upright', 'slouch', 'upright', 'upright', 'upright', 'slouch',\n",
       "       'slouch', 'upright', 'upright', 'upright', 'slouch', 'upright',\n",
       "       'slouch', 'upright', 'upright', 'slouch', 'slouch', 'upright',\n",
       "       'slouch', 'slouch', 'upright', 'upright', 'upright', 'slouch',\n",
       "       'slouch', 'slouch', 'slouch', 'upright', 'upright', 'upright',\n",
       "       'slouch', 'upright', 'slouch', 'slouch', 'upright', 'upright',\n",
       "       'upright', 'slouch', 'slouch', 'upright', 'slouch', 'upright',\n",
       "       'slouch', 'upright', 'slouch', 'slouch', 'slouch', 'upright',\n",
       "       'slouch', 'slouch', 'slouch', 'upright', 'slouch', 'slouch',\n",
       "       'upright', 'slouch', 'slouch', 'upright', 'upright'], dtype=object)"
      ]
     },
     "execution_count": 34,
     "metadata": {},
     "output_type": "execute_result"
    }
   ],
   "source": [
    "fit_models['lr'].predict(X_test)"
   ]
  },
  {
   "cell_type": "markdown",
   "id": "3f0ea9df",
   "metadata": {},
   "source": [
    "# Evaluate & Serialise Models"
   ]
  },
  {
   "cell_type": "code",
   "execution_count": 35,
   "id": "507a1280",
   "metadata": {},
   "outputs": [],
   "source": [
    "from sklearn.metrics import accuracy_score\n",
    "import pickle"
   ]
  },
  {
   "cell_type": "code",
   "execution_count": 36,
   "id": "3d5505f4",
   "metadata": {},
   "outputs": [
    {
     "name": "stdout",
     "output_type": "stream",
     "text": [
      "lr 1.0\n",
      "rc 1.0\n",
      "rf 0.9979633401221996\n",
      "gb 0.9979633401221996\n"
     ]
    }
   ],
   "source": [
    "for algo, model in fit_models.items():\n",
    "    yhat = model.predict(X_test)\n",
    "    print(algo, accuracy_score(y_test, yhat))\n"
   ]
  },
  {
   "cell_type": "code",
   "execution_count": 38,
   "id": "2a092c49",
   "metadata": {},
   "outputs": [],
   "source": [
    "# SAVE MODEL #\n",
    "with open('pose_detection.pkl', 'wb') as f:\n",
    "    pickle.dump(fit_models['lr'], f)"
   ]
  },
  {
   "cell_type": "markdown",
   "id": "d778e25c",
   "metadata": {},
   "source": [
    "# Make Detections w/ Model"
   ]
  },
  {
   "cell_type": "code",
   "execution_count": null,
   "id": "39cbac67",
   "metadata": {},
   "outputs": [],
   "source": [
    "# RELOAD INTO NOTEBOOK #\n",
    "with open('pose_detection.pkl', 'rb') as f:\n",
    "    model = pickle.load(f)\n",
    "\n"
   ]
  },
  {
   "cell_type": "code",
   "execution_count": null,
   "id": "963e176a",
   "metadata": {},
   "outputs": [],
   "source": []
  }
 ],
 "metadata": {
  "kernelspec": {
   "display_name": "vision",
   "language": "python",
   "name": "python3"
  },
  "language_info": {
   "codemirror_mode": {
    "name": "ipython",
    "version": 3
   },
   "file_extension": ".py",
   "mimetype": "text/x-python",
   "name": "python",
   "nbconvert_exporter": "python",
   "pygments_lexer": "ipython3",
   "version": "3.12.11"
  }
 },
 "nbformat": 4,
 "nbformat_minor": 5
}
